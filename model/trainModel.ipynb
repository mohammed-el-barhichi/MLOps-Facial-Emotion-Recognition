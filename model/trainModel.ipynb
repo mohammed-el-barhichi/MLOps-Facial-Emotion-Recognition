{
 "cells": [
  {
   "cell_type": "code",
   "execution_count": 2,
   "metadata": {},
   "outputs": [
    {
     "name": "stdout",
     "output_type": "stream",
     "text": [
      "Requirement already satisfied: tensorflow in c:\\python311\\lib\\site-packages (2.14.0)\n",
      "Requirement already satisfied: tensorflow-intel==2.14.0 in c:\\python311\\lib\\site-packages (from tensorflow) (2.14.0)\n",
      "Requirement already satisfied: absl-py>=1.0.0 in c:\\python311\\lib\\site-packages (from tensorflow-intel==2.14.0->tensorflow) (2.0.0)\n",
      "Requirement already satisfied: astunparse>=1.6.0 in c:\\python311\\lib\\site-packages (from tensorflow-intel==2.14.0->tensorflow) (1.6.3)\n",
      "Requirement already satisfied: flatbuffers>=23.5.26 in c:\\python311\\lib\\site-packages (from tensorflow-intel==2.14.0->tensorflow) (23.5.26)\n",
      "Requirement already satisfied: gast!=0.5.0,!=0.5.1,!=0.5.2,>=0.2.1 in c:\\python311\\lib\\site-packages (from tensorflow-intel==2.14.0->tensorflow) (0.5.4)\n",
      "Requirement already satisfied: google-pasta>=0.1.1 in c:\\python311\\lib\\site-packages (from tensorflow-intel==2.14.0->tensorflow) (0.2.0)\n",
      "Requirement already satisfied: h5py>=2.9.0 in c:\\python311\\lib\\site-packages (from tensorflow-intel==2.14.0->tensorflow) (3.10.0)\n",
      "Requirement already satisfied: libclang>=13.0.0 in c:\\python311\\lib\\site-packages (from tensorflow-intel==2.14.0->tensorflow) (16.0.6)\n",
      "Requirement already satisfied: ml-dtypes==0.2.0 in c:\\python311\\lib\\site-packages (from tensorflow-intel==2.14.0->tensorflow) (0.2.0)\n",
      "Requirement already satisfied: numpy>=1.23.5 in c:\\python311\\lib\\site-packages (from tensorflow-intel==2.14.0->tensorflow) (1.26.1)\n",
      "Requirement already satisfied: opt-einsum>=2.3.2 in c:\\python311\\lib\\site-packages (from tensorflow-intel==2.14.0->tensorflow) (3.3.0)\n",
      "Requirement already satisfied: packaging in c:\\python311\\lib\\site-packages (from tensorflow-intel==2.14.0->tensorflow) (23.2)\n",
      "Requirement already satisfied: protobuf!=4.21.0,!=4.21.1,!=4.21.2,!=4.21.3,!=4.21.4,!=4.21.5,<5.0.0dev,>=3.20.3 in c:\\python311\\lib\\site-packages (from tensorflow-intel==2.14.0->tensorflow) (4.24.4)\n",
      "Requirement already satisfied: setuptools in c:\\python311\\lib\\site-packages (from tensorflow-intel==2.14.0->tensorflow) (65.5.0)\n",
      "Requirement already satisfied: six>=1.12.0 in c:\\python311\\lib\\site-packages (from tensorflow-intel==2.14.0->tensorflow) (1.16.0)\n",
      "Requirement already satisfied: termcolor>=1.1.0 in c:\\python311\\lib\\site-packages (from tensorflow-intel==2.14.0->tensorflow) (2.3.0)\n",
      "Requirement already satisfied: typing-extensions>=3.6.6 in c:\\python311\\lib\\site-packages (from tensorflow-intel==2.14.0->tensorflow) (4.8.0)\n",
      "Requirement already satisfied: wrapt<1.15,>=1.11.0 in c:\\python311\\lib\\site-packages (from tensorflow-intel==2.14.0->tensorflow) (1.14.1)\n",
      "Requirement already satisfied: tensorflow-io-gcs-filesystem>=0.23.1 in c:\\python311\\lib\\site-packages (from tensorflow-intel==2.14.0->tensorflow) (0.31.0)\n",
      "Requirement already satisfied: grpcio<2.0,>=1.24.3 in c:\\python311\\lib\\site-packages (from tensorflow-intel==2.14.0->tensorflow) (1.59.0)\n",
      "Requirement already satisfied: tensorboard<2.15,>=2.14 in c:\\python311\\lib\\site-packages (from tensorflow-intel==2.14.0->tensorflow) (2.14.1)\n",
      "Requirement already satisfied: tensorflow-estimator<2.15,>=2.14.0 in c:\\python311\\lib\\site-packages (from tensorflow-intel==2.14.0->tensorflow) (2.14.0)\n",
      "Requirement already satisfied: keras<2.15,>=2.14.0 in c:\\python311\\lib\\site-packages (from tensorflow-intel==2.14.0->tensorflow) (2.14.0)\n",
      "Requirement already satisfied: wheel<1.0,>=0.23.0 in c:\\python311\\lib\\site-packages (from astunparse>=1.6.0->tensorflow-intel==2.14.0->tensorflow) (0.41.2)\n",
      "Requirement already satisfied: google-auth<3,>=1.6.3 in c:\\python311\\lib\\site-packages (from tensorboard<2.15,>=2.14->tensorflow-intel==2.14.0->tensorflow) (2.17.3)\n",
      "Requirement already satisfied: google-auth-oauthlib<1.1,>=0.5 in c:\\python311\\lib\\site-packages (from tensorboard<2.15,>=2.14->tensorflow-intel==2.14.0->tensorflow) (1.0.0)\n",
      "Requirement already satisfied: markdown>=2.6.8 in c:\\python311\\lib\\site-packages (from tensorboard<2.15,>=2.14->tensorflow-intel==2.14.0->tensorflow) (3.5)\n",
      "Requirement already satisfied: requests<3,>=2.21.0 in c:\\python311\\lib\\site-packages (from tensorboard<2.15,>=2.14->tensorflow-intel==2.14.0->tensorflow) (2.31.0)\n",
      "Requirement already satisfied: tensorboard-data-server<0.8.0,>=0.7.0 in c:\\python311\\lib\\site-packages (from tensorboard<2.15,>=2.14->tensorflow-intel==2.14.0->tensorflow) (0.7.1)\n",
      "Requirement already satisfied: werkzeug>=1.0.1 in c:\\python311\\lib\\site-packages (from tensorboard<2.15,>=2.14->tensorflow-intel==2.14.0->tensorflow) (2.3.6)\n",
      "Requirement already satisfied: cachetools<6.0,>=2.0.0 in c:\\python311\\lib\\site-packages (from google-auth<3,>=1.6.3->tensorboard<2.15,>=2.14->tensorflow-intel==2.14.0->tensorflow) (5.3.0)\n",
      "Requirement already satisfied: pyasn1-modules>=0.2.1 in c:\\python311\\lib\\site-packages (from google-auth<3,>=1.6.3->tensorboard<2.15,>=2.14->tensorflow-intel==2.14.0->tensorflow) (0.3.0)\n",
      "Requirement already satisfied: rsa<5,>=3.1.4 in c:\\python311\\lib\\site-packages (from google-auth<3,>=1.6.3->tensorboard<2.15,>=2.14->tensorflow-intel==2.14.0->tensorflow) (4.9)\n",
      "Requirement already satisfied: requests-oauthlib>=0.7.0 in c:\\python311\\lib\\site-packages (from google-auth-oauthlib<1.1,>=0.5->tensorboard<2.15,>=2.14->tensorflow-intel==2.14.0->tensorflow) (1.3.1)\n",
      "Requirement already satisfied: charset-normalizer<4,>=2 in c:\\python311\\lib\\site-packages (from requests<3,>=2.21.0->tensorboard<2.15,>=2.14->tensorflow-intel==2.14.0->tensorflow) (3.1.0)\n",
      "Requirement already satisfied: idna<4,>=2.5 in c:\\python311\\lib\\site-packages (from requests<3,>=2.21.0->tensorboard<2.15,>=2.14->tensorflow-intel==2.14.0->tensorflow) (3.4)\n",
      "Requirement already satisfied: urllib3<3,>=1.21.1 in c:\\python311\\lib\\site-packages (from requests<3,>=2.21.0->tensorboard<2.15,>=2.14->tensorflow-intel==2.14.0->tensorflow) (2.0.2)\n",
      "Requirement already satisfied: certifi>=2017.4.17 in c:\\python311\\lib\\site-packages (from requests<3,>=2.21.0->tensorboard<2.15,>=2.14->tensorflow-intel==2.14.0->tensorflow) (2023.5.7)\n",
      "Requirement already satisfied: MarkupSafe>=2.1.1 in c:\\python311\\lib\\site-packages (from werkzeug>=1.0.1->tensorboard<2.15,>=2.14->tensorflow-intel==2.14.0->tensorflow) (2.1.3)\n",
      "Requirement already satisfied: pyasn1<0.6.0,>=0.4.6 in c:\\python311\\lib\\site-packages (from pyasn1-modules>=0.2.1->google-auth<3,>=1.6.3->tensorboard<2.15,>=2.14->tensorflow-intel==2.14.0->tensorflow) (0.5.0)\n",
      "Requirement already satisfied: oauthlib>=3.0.0 in c:\\python311\\lib\\site-packages (from requests-oauthlib>=0.7.0->google-auth-oauthlib<1.1,>=0.5->tensorboard<2.15,>=2.14->tensorflow-intel==2.14.0->tensorflow) (3.2.2)\n",
      "Note: you may need to restart the kernel to use updated packages.\n"
     ]
    },
    {
     "name": "stderr",
     "output_type": "stream",
     "text": [
      "\n",
      "[notice] A new release of pip is available: 23.2.1 -> 23.3.1\n",
      "[notice] To update, run: python.exe -m pip install --upgrade pip\n"
     ]
    },
    {
     "name": "stdout",
     "output_type": "stream",
     "text": [
      "Note: you may need to restart the kernel to use updated packages.\n"
     ]
    },
    {
     "name": "stderr",
     "output_type": "stream",
     "text": [
      "ERROR: Could not find a version that satisfies the requirement cv2 (from versions: none)\n",
      "ERROR: No matching distribution found for cv2\n",
      "\n",
      "[notice] A new release of pip is available: 23.2.1 -> 23.3.1\n",
      "[notice] To update, run: python.exe -m pip install --upgrade pip\n"
     ]
    }
   ],
   "source": [
    "%pip install tensorflow\n",
    "%pip install cv2\n"
   ]
  },
  {
   "cell_type": "code",
   "execution_count": 3,
   "metadata": {},
   "outputs": [],
   "source": [
    "import cv2\n",
    "import tensorflow as tf\n",
    "from tensorflow.keras.models import Sequential\n",
    "from tensorflow.keras.layers import Conv2D, MaxPooling2D, Dense, Dropout, Flatten\n",
    "from tensorflow.keras.optimizers import Adam\n",
    "from tensorflow.keras.preprocessing.image import ImageDataGenerator\n",
    "import joblib\n",
    "from PIL import Image"
   ]
  },
  {
   "cell_type": "code",
   "execution_count": 4,
   "metadata": {},
   "outputs": [],
   "source": [
    "\n",
    "# Initialize image data generator with rescaling\n",
    "train_data_gen = ImageDataGenerator(rescale=1./255)\n",
    "validation_data_gen = ImageDataGenerator(rescale=1./255)\n"
   ]
  },
  {
   "cell_type": "code",
   "execution_count": 5,
   "metadata": {},
   "outputs": [
    {
     "name": "stdout",
     "output_type": "stream",
     "text": [
      "Found 28709 images belonging to 7 classes.\n",
      "Found 7178 images belonging to 7 classes.\n"
     ]
    }
   ],
   "source": [
    "\n",
    "# Preprocess all train images\n",
    "train_generator = train_data_gen.flow_from_directory(\n",
    "    '../datas/train',\n",
    "    target_size=(48, 48),\n",
    "    batch_size=64,\n",
    "    color_mode=\"grayscale\",\n",
    "    class_mode='categorical'\n",
    ")\n",
    "\n",
    "# Preprocess all validation images\n",
    "validation_generator = validation_data_gen.flow_from_directory(\n",
    "    '../datas/validation',\n",
    "    target_size=(48, 48),\n",
    "    batch_size=64,\n",
    "    color_mode=\"grayscale\",\n",
    "    class_mode='categorical'\n",
    ")\n"
   ]
  },
  {
   "cell_type": "code",
   "execution_count": 6,
   "metadata": {},
   "outputs": [],
   "source": [
    "\n",
    "# Create model structure\n",
    "emotion_model = Sequential()\n",
    "\n",
    "emotion_model.add(Conv2D(32, kernel_size=(3, 3), activation='relu', input_shape=(48, 48, 1)))\n",
    "emotion_model.add(Conv2D(64, kernel_size=(3, 3), activation='relu'))\n",
    "emotion_model.add(MaxPooling2D(pool_size=(2, 2)))\n",
    "emotion_model.add(Dropout(0.25))\n",
    "\n",
    "emotion_model.add(Conv2D(128, kernel_size=(3, 3), activation='relu'))\n",
    "emotion_model.add(MaxPooling2D(pool_size=(2, 2)))\n",
    "emotion_model.add(Conv2D(128, kernel_size=(3, 3), activation='relu'))\n",
    "emotion_model.add(MaxPooling2D(pool_size=(2, 2)))\n",
    "emotion_model.add(Dropout(0.25))\n",
    "\n",
    "emotion_model.add(Flatten())\n",
    "emotion_model.add(Dense(1024, activation='relu'))\n",
    "emotion_model.add(Dropout(0.5))\n",
    "emotion_model.add(Dense(7, activation='softmax'))\n",
    "\n",
    "cv2.ocl.setUseOpenCL(False)\n"
   ]
  },
  {
   "cell_type": "code",
   "execution_count": 7,
   "metadata": {},
   "outputs": [
    {
     "name": "stderr",
     "output_type": "stream",
     "text": [
      "C:\\Users\\McKing.DESKTOP-4Q7G3QP\\AppData\\Local\\Temp\\ipykernel_10644\\2779289156.py:14: UserWarning: `Model.fit_generator` is deprecated and will be removed in a future version. Please use `Model.fit`, which supports generators.\n",
      "  emotion_model_info = emotion_model.fit_generator(\n"
     ]
    },
    {
     "name": "stdout",
     "output_type": "stream",
     "text": [
      "Epoch 1/50\n",
      "448/448 [==============================] - 393s 859ms/step - loss: 1.8032 - accuracy: 0.2578 - val_loss: 1.7188 - val_accuracy: 0.3299\n",
      "Epoch 2/50\n",
      "448/448 [==============================] - 322s 718ms/step - loss: 1.6440 - accuracy: 0.3594 - val_loss: 1.5578 - val_accuracy: 0.4081\n",
      "Epoch 3/50\n",
      "448/448 [==============================] - 271s 605ms/step - loss: 1.5415 - accuracy: 0.4059 - val_loss: 1.4678 - val_accuracy: 0.4388\n",
      "Epoch 4/50\n",
      "448/448 [==============================] - 313s 699ms/step - loss: 1.4704 - accuracy: 0.4393 - val_loss: 1.4232 - val_accuracy: 0.4558\n",
      "Epoch 5/50\n",
      "448/448 [==============================] - 353s 788ms/step - loss: 1.4130 - accuracy: 0.4611 - val_loss: 1.3607 - val_accuracy: 0.4837\n",
      "Epoch 6/50\n",
      "448/448 [==============================] - 352s 786ms/step - loss: 1.3607 - accuracy: 0.4839 - val_loss: 1.3425 - val_accuracy: 0.4920\n",
      "Epoch 7/50\n",
      "448/448 [==============================] - 474s 1s/step - loss: 1.3121 - accuracy: 0.5038 - val_loss: 1.2889 - val_accuracy: 0.5155\n",
      "Epoch 8/50\n",
      "448/448 [==============================] - 321s 714ms/step - loss: 1.2724 - accuracy: 0.5185 - val_loss: 1.2606 - val_accuracy: 0.5211\n",
      "Epoch 9/50\n",
      "448/448 [==============================] - 313s 700ms/step - loss: 1.2388 - accuracy: 0.5339 - val_loss: 1.2320 - val_accuracy: 0.5289\n",
      "Epoch 10/50\n",
      "448/448 [==============================] - 303s 676ms/step - loss: 1.2038 - accuracy: 0.5470 - val_loss: 1.2066 - val_accuracy: 0.5402\n",
      "Epoch 11/50\n",
      "448/448 [==============================] - 303s 675ms/step - loss: 1.1766 - accuracy: 0.5580 - val_loss: 1.1905 - val_accuracy: 0.5487\n",
      "Epoch 12/50\n",
      "448/448 [==============================] - 305s 680ms/step - loss: 1.1480 - accuracy: 0.5675 - val_loss: 1.1725 - val_accuracy: 0.5589\n",
      "Epoch 13/50\n",
      "448/448 [==============================] - 302s 674ms/step - loss: 1.1214 - accuracy: 0.5798 - val_loss: 1.1598 - val_accuracy: 0.5590\n",
      "Epoch 14/50\n",
      "448/448 [==============================] - 299s 668ms/step - loss: 1.1021 - accuracy: 0.5872 - val_loss: 1.1552 - val_accuracy: 0.5592\n",
      "Epoch 15/50\n",
      "448/448 [==============================] - 300s 669ms/step - loss: 1.0752 - accuracy: 0.5980 - val_loss: 1.1353 - val_accuracy: 0.5710\n",
      "Epoch 16/50\n",
      "448/448 [==============================] - 298s 665ms/step - loss: 1.0491 - accuracy: 0.6105 - val_loss: 1.1272 - val_accuracy: 0.5766\n",
      "Epoch 17/50\n",
      "448/448 [==============================] - 298s 664ms/step - loss: 1.0280 - accuracy: 0.6171 - val_loss: 1.1152 - val_accuracy: 0.5765\n",
      "Epoch 18/50\n",
      "448/448 [==============================] - 297s 663ms/step - loss: 1.0024 - accuracy: 0.6303 - val_loss: 1.1060 - val_accuracy: 0.5838\n",
      "Epoch 19/50\n",
      "448/448 [==============================] - 302s 674ms/step - loss: 0.9760 - accuracy: 0.6355 - val_loss: 1.0990 - val_accuracy: 0.5861\n",
      "Epoch 20/50\n",
      "448/448 [==============================] - 297s 663ms/step - loss: 0.9574 - accuracy: 0.6477 - val_loss: 1.0965 - val_accuracy: 0.5931\n",
      "Epoch 21/50\n",
      "448/448 [==============================] - 301s 673ms/step - loss: 0.9370 - accuracy: 0.6562 - val_loss: 1.0928 - val_accuracy: 0.5912\n",
      "Epoch 22/50\n",
      "448/448 [==============================] - 300s 669ms/step - loss: 0.9098 - accuracy: 0.6659 - val_loss: 1.0848 - val_accuracy: 0.5970\n",
      "Epoch 23/50\n",
      "448/448 [==============================] - 646s 1s/step - loss: 0.8847 - accuracy: 0.6756 - val_loss: 1.0813 - val_accuracy: 0.5984\n",
      "Epoch 24/50\n",
      "448/448 [==============================] - 755s 2s/step - loss: 0.8645 - accuracy: 0.6858 - val_loss: 1.0825 - val_accuracy: 0.6039\n",
      "Epoch 25/50\n",
      "448/448 [==============================] - 717s 2s/step - loss: 0.8371 - accuracy: 0.6929 - val_loss: 1.0791 - val_accuracy: 0.6045\n",
      "Epoch 26/50\n",
      "448/448 [==============================] - 502s 1s/step - loss: 0.8200 - accuracy: 0.7001 - val_loss: 1.0834 - val_accuracy: 0.6021\n",
      "Epoch 27/50\n",
      "448/448 [==============================] - 305s 680ms/step - loss: 0.7939 - accuracy: 0.7105 - val_loss: 1.0931 - val_accuracy: 0.6035\n",
      "Epoch 28/50\n",
      "448/448 [==============================] - 299s 668ms/step - loss: 0.7708 - accuracy: 0.7174 - val_loss: 1.0721 - val_accuracy: 0.6098\n",
      "Epoch 29/50\n",
      "448/448 [==============================] - 301s 671ms/step - loss: 0.7503 - accuracy: 0.7267 - val_loss: 1.0802 - val_accuracy: 0.6081\n",
      "Epoch 30/50\n",
      "448/448 [==============================] - 299s 668ms/step - loss: 0.7300 - accuracy: 0.7333 - val_loss: 1.0760 - val_accuracy: 0.6095\n",
      "Epoch 31/50\n",
      "448/448 [==============================] - 306s 682ms/step - loss: 0.7077 - accuracy: 0.7437 - val_loss: 1.0819 - val_accuracy: 0.6148\n",
      "Epoch 32/50\n",
      "448/448 [==============================] - 309s 689ms/step - loss: 0.6791 - accuracy: 0.7548 - val_loss: 1.0987 - val_accuracy: 0.6177\n",
      "Epoch 33/50\n",
      "448/448 [==============================] - 311s 693ms/step - loss: 0.6602 - accuracy: 0.7581 - val_loss: 1.0883 - val_accuracy: 0.6190\n",
      "Epoch 34/50\n",
      "448/448 [==============================] - 310s 693ms/step - loss: 0.6412 - accuracy: 0.7667 - val_loss: 1.0911 - val_accuracy: 0.6155\n",
      "Epoch 35/50\n",
      "448/448 [==============================] - 313s 698ms/step - loss: 0.6179 - accuracy: 0.7751 - val_loss: 1.0890 - val_accuracy: 0.6190\n",
      "Epoch 36/50\n",
      "448/448 [==============================] - 310s 691ms/step - loss: 0.5997 - accuracy: 0.7826 - val_loss: 1.0898 - val_accuracy: 0.6237\n",
      "Epoch 37/50\n",
      "448/448 [==============================] - 310s 692ms/step - loss: 0.5842 - accuracy: 0.7856 - val_loss: 1.0936 - val_accuracy: 0.6205\n",
      "Epoch 38/50\n",
      "448/448 [==============================] - 310s 693ms/step - loss: 0.5590 - accuracy: 0.7975 - val_loss: 1.1118 - val_accuracy: 0.6244\n",
      "Epoch 39/50\n",
      "448/448 [==============================] - 300s 670ms/step - loss: 0.5431 - accuracy: 0.8058 - val_loss: 1.1353 - val_accuracy: 0.6244\n",
      "Epoch 40/50\n",
      "448/448 [==============================] - 310s 692ms/step - loss: 0.5298 - accuracy: 0.8096 - val_loss: 1.1186 - val_accuracy: 0.6217\n",
      "Epoch 41/50\n",
      "448/448 [==============================] - 319s 711ms/step - loss: 0.5053 - accuracy: 0.8152 - val_loss: 1.1584 - val_accuracy: 0.6253\n",
      "Epoch 42/50\n",
      "448/448 [==============================] - 306s 682ms/step - loss: 0.4992 - accuracy: 0.8208 - val_loss: 1.1506 - val_accuracy: 0.6217\n",
      "Epoch 43/50\n",
      "448/448 [==============================] - 305s 680ms/step - loss: 0.4795 - accuracy: 0.8263 - val_loss: 1.1403 - val_accuracy: 0.6260\n",
      "Epoch 44/50\n",
      "448/448 [==============================] - 301s 672ms/step - loss: 0.4537 - accuracy: 0.8360 - val_loss: 1.1501 - val_accuracy: 0.6278\n",
      "Epoch 45/50\n",
      "448/448 [==============================] - 302s 673ms/step - loss: 0.4557 - accuracy: 0.8349 - val_loss: 1.1680 - val_accuracy: 0.6270\n",
      "Epoch 46/50\n",
      "448/448 [==============================] - 306s 682ms/step - loss: 0.4300 - accuracy: 0.8440 - val_loss: 1.1818 - val_accuracy: 0.6267\n",
      "Epoch 47/50\n",
      "448/448 [==============================] - 304s 678ms/step - loss: 0.4205 - accuracy: 0.8476 - val_loss: 1.1846 - val_accuracy: 0.6239\n",
      "Epoch 48/50\n",
      "448/448 [==============================] - 304s 679ms/step - loss: 0.4123 - accuracy: 0.8514 - val_loss: 1.1662 - val_accuracy: 0.6250\n",
      "Epoch 49/50\n",
      "448/448 [==============================] - 300s 670ms/step - loss: 0.3932 - accuracy: 0.8580 - val_loss: 1.1918 - val_accuracy: 0.6263\n",
      "Epoch 50/50\n",
      "448/448 [==============================] - 302s 674ms/step - loss: 0.3814 - accuracy: 0.8636 - val_loss: 1.2156 - val_accuracy: 0.6274\n"
     ]
    }
   ],
   "source": [
    "\n",
    "# Use ExponentialDecay for learning rate decay\n",
    "initial_learning_rate = 0.0001\n",
    "lr_schedule = tf.keras.optimizers.schedules.ExponentialDecay(\n",
    "    initial_learning_rate, decay_steps=100000, decay_rate=0.96, staircase=True\n",
    ")\n",
    "\n",
    "emotion_model.compile(\n",
    "    loss='categorical_crossentropy',\n",
    "    optimizer=Adam(learning_rate=lr_schedule),\n",
    "    metrics=['accuracy']\n",
    ")\n",
    "\n",
    "# Train the neural network/model\n",
    "emotion_model_info = emotion_model.fit_generator(\n",
    "    train_generator,\n",
    "    steps_per_epoch=28709 // 64,\n",
    "    epochs=50,\n",
    "    validation_data=validation_generator,\n",
    "    validation_steps=7178 // 64\n",
    ")\n",
    "\n"
   ]
  },
  {
   "cell_type": "code",
   "execution_count": 8,
   "metadata": {},
   "outputs": [
    {
     "data": {
      "text/plain": [
       "['emotion_model.joblib']"
      ]
     },
     "execution_count": 8,
     "metadata": {},
     "output_type": "execute_result"
    }
   ],
   "source": [
    "\n",
    "# save trained model as joblib\n",
    "joblib.dump(emotion_model, 'emotion_model.joblib')"
   ]
  },
  {
   "cell_type": "code",
   "execution_count": null,
   "metadata": {},
   "outputs": [],
   "source": [
    "# save model structure in jason file\n",
    "model_json = emotion_model.to_json()\n",
    "with open(\"emotion_model.json\", \"w\") as json_file:\n",
    "    json_file.write(model_json)\n",
    "\n",
    "# save trained model weight in .h5 file\n",
    "emotion_model.save_weights('emotion_model.h5')\n"
   ]
  }
 ],
 "metadata": {
  "kernelspec": {
   "display_name": "Python 3",
   "language": "python",
   "name": "python3"
  },
  "language_info": {
   "codemirror_mode": {
    "name": "ipython",
    "version": 3
   },
   "file_extension": ".py",
   "mimetype": "text/x-python",
   "name": "python",
   "nbconvert_exporter": "python",
   "pygments_lexer": "ipython3",
   "version": "3.11.4"
  }
 },
 "nbformat": 4,
 "nbformat_minor": 2
}
